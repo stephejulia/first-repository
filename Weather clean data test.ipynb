{
    "cells": [
        {
            "cell_type": "markdown",
            "metadata": {
                "collapsed": true
            },
            "source": "Loading weather data as a test"
        },
        {
            "cell_type": "code",
            "execution_count": 1,
            "metadata": {},
            "outputs": [
                {
                    "data": {
                        "text/html": "<div>\n<style scoped>\n    .dataframe tbody tr th:only-of-type {\n        vertical-align: middle;\n    }\n\n    .dataframe tbody tr th {\n        vertical-align: top;\n    }\n\n    .dataframe thead th {\n        text-align: right;\n    }\n</style>\n<table border=\"1\" class=\"dataframe\">\n  <thead>\n    <tr style=\"text-align: right;\">\n      <th></th>\n      <th>DATE</th>\n      <th>HOURLYVISIBILITY</th>\n      <th>HOURLYDRYBULBTEMPF</th>\n      <th>HOURLYWETBULBTEMPF</th>\n      <th>HOURLYDewPointTempF</th>\n      <th>HOURLYRelativeHumidity</th>\n      <th>HOURLYWindSpeed</th>\n      <th>HOURLYStationPressure</th>\n      <th>HOURLYSeaLevelPressure</th>\n      <th>HOURLYPrecip</th>\n      <th>HOURLYAltimeterSetting</th>\n      <th>HOURLYWindDirectionSin</th>\n      <th>HOURLYWindDirectionCos</th>\n      <th>HOURLYPressureTendencyIncr</th>\n      <th>HOURLYPressureTendencyDecr</th>\n      <th>HOURLYPressureTendencyCons</th>\n    </tr>\n  </thead>\n  <tbody>\n    <tr>\n      <th>0</th>\n      <td>2010-01-01 01:00:00</td>\n      <td>6.0</td>\n      <td>33.0</td>\n      <td>32.0</td>\n      <td>31.0</td>\n      <td>92.0</td>\n      <td>0.0</td>\n      <td>29.97</td>\n      <td>29.99</td>\n      <td>0.01</td>\n      <td>29.99</td>\n      <td>0.0</td>\n      <td>1.0</td>\n      <td>0</td>\n      <td>1</td>\n      <td>0</td>\n    </tr>\n    <tr>\n      <th>1</th>\n      <td>2010-01-01 02:00:00</td>\n      <td>6.0</td>\n      <td>33.0</td>\n      <td>33.0</td>\n      <td>32.0</td>\n      <td>96.0</td>\n      <td>0.0</td>\n      <td>29.97</td>\n      <td>29.99</td>\n      <td>0.02</td>\n      <td>29.99</td>\n      <td>0.0</td>\n      <td>1.0</td>\n      <td>0</td>\n      <td>1</td>\n      <td>0</td>\n    </tr>\n    <tr>\n      <th>2</th>\n      <td>2010-01-01 03:00:00</td>\n      <td>5.0</td>\n      <td>33.0</td>\n      <td>33.0</td>\n      <td>32.0</td>\n      <td>96.0</td>\n      <td>0.0</td>\n      <td>29.97</td>\n      <td>29.99</td>\n      <td>0.00</td>\n      <td>29.99</td>\n      <td>0.0</td>\n      <td>1.0</td>\n      <td>0</td>\n      <td>1</td>\n      <td>0</td>\n    </tr>\n    <tr>\n      <th>3</th>\n      <td>2010-01-01 04:00:00</td>\n      <td>5.0</td>\n      <td>33.0</td>\n      <td>33.0</td>\n      <td>32.0</td>\n      <td>96.0</td>\n      <td>0.0</td>\n      <td>29.95</td>\n      <td>29.97</td>\n      <td>0.00</td>\n      <td>29.97</td>\n      <td>0.0</td>\n      <td>1.0</td>\n      <td>0</td>\n      <td>1</td>\n      <td>0</td>\n    </tr>\n    <tr>\n      <th>4</th>\n      <td>2010-01-01 05:00:00</td>\n      <td>5.0</td>\n      <td>33.0</td>\n      <td>32.0</td>\n      <td>31.0</td>\n      <td>92.0</td>\n      <td>0.0</td>\n      <td>29.93</td>\n      <td>29.96</td>\n      <td>0.00</td>\n      <td>29.95</td>\n      <td>0.0</td>\n      <td>1.0</td>\n      <td>0</td>\n      <td>1</td>\n      <td>0</td>\n    </tr>\n  </tbody>\n</table>\n</div>",
                        "text/plain": "                  DATE  HOURLYVISIBILITY  HOURLYDRYBULBTEMPF  \\\n0  2010-01-01 01:00:00               6.0                33.0   \n1  2010-01-01 02:00:00               6.0                33.0   \n2  2010-01-01 03:00:00               5.0                33.0   \n3  2010-01-01 04:00:00               5.0                33.0   \n4  2010-01-01 05:00:00               5.0                33.0   \n\n   HOURLYWETBULBTEMPF  HOURLYDewPointTempF  HOURLYRelativeHumidity  \\\n0                32.0                 31.0                    92.0   \n1                33.0                 32.0                    96.0   \n2                33.0                 32.0                    96.0   \n3                33.0                 32.0                    96.0   \n4                32.0                 31.0                    92.0   \n\n   HOURLYWindSpeed  HOURLYStationPressure  HOURLYSeaLevelPressure  \\\n0              0.0                  29.97                   29.99   \n1              0.0                  29.97                   29.99   \n2              0.0                  29.97                   29.99   \n3              0.0                  29.95                   29.97   \n4              0.0                  29.93                   29.96   \n\n   HOURLYPrecip  HOURLYAltimeterSetting  HOURLYWindDirectionSin  \\\n0          0.01                   29.99                     0.0   \n1          0.02                   29.99                     0.0   \n2          0.00                   29.99                     0.0   \n3          0.00                   29.97                     0.0   \n4          0.00                   29.95                     0.0   \n\n   HOURLYWindDirectionCos  HOURLYPressureTendencyIncr  \\\n0                     1.0                           0   \n1                     1.0                           0   \n2                     1.0                           0   \n3                     1.0                           0   \n4                     1.0                           0   \n\n   HOURLYPressureTendencyDecr  HOURLYPressureTendencyCons  \n0                           1                           0  \n1                           1                           0  \n2                           1                           0  \n3                           1                           0  \n4                           1                           0  "
                    },
                    "execution_count": 1,
                    "metadata": {},
                    "output_type": "execute_result"
                }
            ],
            "source": "# The code was removed by Watson Studio for sharing."
        },
        {
            "cell_type": "code",
            "execution_count": null,
            "metadata": {},
            "outputs": [],
            "source": ""
        }
    ],
    "metadata": {
        "kernelspec": {
            "display_name": "Python 3.9",
            "language": "python",
            "name": "python3"
        },
        "language_info": {
            "codemirror_mode": {
                "name": "ipython",
                "version": 3
            },
            "file_extension": ".py",
            "mimetype": "text/x-python",
            "name": "python",
            "nbconvert_exporter": "python",
            "pygments_lexer": "ipython3",
            "version": "3.9.7"
        }
    },
    "nbformat": 4,
    "nbformat_minor": 1
}